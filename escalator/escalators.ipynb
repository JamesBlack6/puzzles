{
 "cells": [
  {
   "cell_type": "markdown",
   "metadata": {},
   "source": [
    "Inspired by the article [Tokyo Wants People to Stand on Both Sides of the Escalator](https://www.citylab.com/transportation/2018/12/people-stand-walk-escalator-left-right-save-time-efficient/578479/), let's examine two different ways of using an escalator that can accomodate two people per step.\n",
    "\n",
    "The first is people always stand, which is what railway officials in Tokyo want people to do. The second is people who want to stand stick to one side, leaving the other side free for those who wish to walk, which is how they're typically been used.\n",
    "\n",
    "We'll look at several different metrics - the average amount of time people wait to actually get on the escalator, the number of people processed per second and the average amount of time people people spend in total waiting for and actually on the escalator."
   ]
  },
  {
   "cell_type": "code",
   "execution_count": 1,
   "metadata": {},
   "outputs": [],
   "source": [
    "# horizontal length of escalator in meters\n",
    "L = 10\n",
    "\n",
    "# depth of step in meters\n",
    "d = 0.40\n",
    "\n",
    "# walking speed in meters per second\n",
    "w = 84/60\n",
    "\n",
    "# horizontal escalator speed in meters per second\n",
    "s = 42/60\n",
    "\n",
    "# deterministic service time in seconds\n",
    "D = s/d\n",
    "\n",
    "# Average people per second\n",
    "y = 1/2\n",
    "\n",
    "# arrival in units of fixed service time\n",
    "b = y*D"
   ]
  },
  {
   "cell_type": "markdown",
   "metadata": {},
   "source": [
    "We first examine the case where people simply stand. This is equivalent to a single queue with two servers and deterministic service time $D$, which is the amount of time it takes for an escalator step to appear.\n",
    "\n",
    "The analysis of this case is difficult, but there is a nice closed-form with respect to the Lambert W function.\n",
    "\n",
    "Let $z_i$, $z_i \\neq 1$, be the $c-1$ roots of the equation $1-z^c e^{\\lambda b (1-z)}$.\n",
    "\n",
    "Then we have $$\\mathbf{E}(n_s;c>1) = \\sum_{i=1}^{c-1} \\frac{1}{1-z_i} + \\frac{1}{2} \\left(\\lambda b + \\frac{1}{1-\\rho} - c\\right).$$\n",
    "\n",
    "The expected waiting time in the (queue, not escalator) system is then $$T_D = \\frac{\\mathbf{E}(n_s)}{\\lambda}.$$\n",
    "\n",
    "For our purposes we want the time spent in the queue, which is $t = T_D-D$, as well as the total time spend in the queue and on the escalator, which is $t + L/s$, where $L$ is the horizontal length of the escalator and $s$ is the horizontal speed of the escalator.\n",
    "\n",
    "The number of people processed per second is the arrival rate adjusted for the time spent in the queue, which is $$\\frac{1}{\\frac{1}{\\lambda}+t} = \\frac{\\lambda}{1+\\lambda t}.$$"
   ]
  },
  {
   "cell_type": "code",
   "execution_count": 2,
   "metadata": {},
   "outputs": [
    {
     "name": "stdout",
     "output_type": "stream",
     "text": [
      "M/D/2 expected waiting time = 0.222625621502552\n",
      "M/D/2 expected system time = 14.5083399072168\n",
      "M/D/2 people per second = 0.449918326471902\n",
      "\n"
     ]
    }
   ],
   "source": [
    "# M/D/2\n",
    "\n",
    "# servers\n",
    "c = 2\n",
    "p = b/c\n",
    "\n",
    "u = -1/p*lambert_w(-p/exp(p))\n",
    "v = -1/p*lambert_w(p/exp(p))\n",
    "#print(u.n(),v.n())\n",
    "\n",
    "m = min(u.n(),v.n())\n",
    "\n",
    "# expected queue waiting time\n",
    "W = 1/(1-m) + 1/2*(c*p+1/(1-p)-c)\n",
    "t = W/y-D\n",
    "print(\"M/D/2 expected waiting time = %s\" %(t))\n",
    "print(\"M/D/2 expected system time = %s\" %(t+L/s))\n",
    "\n",
    "# People per second\n",
    "ps_2 = 1/(1/y+t)\n",
    "\n",
    "print(\"M/D/2 people per second = %s\" %(ps_2))\n",
    "print"
   ]
  },
  {
   "cell_type": "code",
   "execution_count": 3,
   "metadata": {},
   "outputs": [
    {
     "name": "stdout",
     "output_type": "stream",
     "text": [
      "Split queue expected waiting time = 1.67045454545454\n",
      "Split queue expected system time = 14.0514069264069\n",
      "Split queue people per second = 0.318361247488067\n",
      "\n",
      "Ratio of M/D/2 pps to split queue pps = 1.41323207526621\n"
     ]
    }
   ],
   "source": [
    "# fast/slow splits\n",
    "\n",
    "f_f = 0.20\n",
    "f_s = 1-f_f\n",
    "\n",
    "y_f = f_f*y\n",
    "y_s = f_s*y\n",
    "\n",
    "p_f = y_f*D\n",
    "p_s = y_s*D\n",
    "\n",
    "t_f = p_f/2*D/(1-p_f)\n",
    "t_s = p_s/2*D/(1-p_s)\n",
    "\n",
    "q_t = f_f*t_f+f_s*t_s\n",
    "print(\"Split queue expected waiting time = %s\" %(q_t))\n",
    "\n",
    "s_t = f_f*(t_f+L/(s+w)) + f_s*(t_s+L/s)\n",
    "\n",
    "print(\"Split queue expected system time = %s\" %(s_t))\n",
    "\n",
    "# People per second\n",
    "ps_s = 1/(1/y_f+t_f) + 1/(1/y_s+t_s)\n",
    "\n",
    "print(\"Split queue people per second = %s\" %(ps_s))\n",
    "\n",
    "print\n",
    "print(\"Ratio of M/D/2 pps to split queue pps = %s\" %(ps_2/ps_s))"
   ]
  },
  {
   "cell_type": "code",
   "execution_count": null,
   "metadata": {},
   "outputs": [],
   "source": []
  }
 ],
 "metadata": {
  "kernelspec": {
   "display_name": "SageMath 8.4",
   "language": "",
   "name": "sagemath"
  },
  "language_info": {
   "codemirror_mode": {
    "name": "ipython",
    "version": 2
   },
   "file_extension": ".py",
   "mimetype": "text/x-python",
   "name": "python",
   "nbconvert_exporter": "python",
   "pygments_lexer": "ipython2",
   "version": "2.7.15"
  }
 },
 "nbformat": 4,
 "nbformat_minor": 2
}
