{
 "cells": [
  {
   "cell_type": "markdown",
   "metadata": {},
   "source": [
    "# Is Tokyo Right About How To Use Escalators?\n",
    "\n",
    "Inspired by the article [Tokyo Wants People to Stand on Both Sides of the Escalator](https://www.citylab.com/transportation/2018/12/people-stand-walk-escalator-left-right-save-time-efficient/578479/), let's examine two different ways of using an escalator that can accomodate two people per step.\n",
    "\n",
    "The first is people always stand, which is what railway officials in Tokyo want people to do. The second is people who want to stand stick to one side, leaving the other side free for those who wish to walk, which is how they're typically been used.\n",
    "\n",
    "We'll look at several different metrics - the average amount of time people wait to actually get on the escalator, the number of people processed per second and the average amount of time people people spend in total waiting for and actually on the escalator."
   ]
  },
  {
   "cell_type": "code",
   "execution_count": 1,
   "metadata": {},
   "outputs": [],
   "source": [
    "// Horizontal length of escalator in meters\n",
    "var L float64 = 10.0\n",
    "\n",
    "// Depth of step in meters\n",
    "var d float64 = 0.40\n",
    "\n",
    "// Walking speed in meters per second\n",
    "var w float64 = 84.0/60.0\n",
    "\n",
    "// Horizontal escalator speed in meters per second\n",
    "var s float64 = 42.0/60.0\n",
    "\n",
    "// Deterministic service time in seconds\n",
    "var D float64 = s/d\n",
    "\n",
    "// Average people per second\n",
    "var y float64 = 1.0/2.0\n",
    "\n",
    "// Arrival in units of fixed service time\n",
    "var b float64 = y*D"
   ]
  },
  {
   "cell_type": "markdown",
   "metadata": {},
   "source": [
    "## Standing Only\n",
    "\n",
    "We first examine the case where people simply stand. This is equivalent to a single queue with two servers and deterministic service time $D$, which is the amount of time it takes for an escalator step to appear.\n",
    "\n",
    "The analysis of this case is difficult, but there is a nice closed-form with respect to the Lambert W function.\n",
    "\n",
    "Let $z_i$, $z_i \\neq 1$, be the $c-1$ roots of the equation $1-z^c e^{\\lambda D (1-z)}=0$.\n",
    "\n",
    "Then we have $$\\mathbf{E}(n_s;c>1) = \\sum_{i=1}^{c-1} \\frac{1}{1-z_i} + \\frac{1}{2} \\left(\\lambda D + \\frac{c}{c-\\lambda D} - c\\right).$$\n",
    "\n",
    "The expected waiting time $T_D$ in the (queue, not escalator) system is then by [Little's law](https://en.wikipedia.org/wiki/Little%27s_law) $$T_D = \\frac{\\mathbf{E}(n_s)}{\\lambda}.$$\n",
    "\n",
    "For our purposes we want the time spent in the queue, which is $t_Q = T_D-D$, as well as the total time spent in the queue and on the escalator, which is $T_S = t_Q + L/s$, where $L$ is the horizontal length of the escalator and $s$ is the horizontal speed of the escalator.\n",
    "\n",
    "The number of people processed per second is the arrival rate adjusted for the time spent in the queue, which is $$\\frac{1}{\\frac{1}{\\lambda}+t} = \\frac{\\lambda}{1+\\lambda t}.$$"
   ]
  },
  {
   "cell_type": "code",
   "execution_count": 5,
   "metadata": {},
   "outputs": [
    {
     "name": "stdout",
     "output_type": "stream",
     "text": [
      "M/D/2 expected waiting time =  0.22262562150255238\n",
      "M/D/2 expected system time =  14.50833990721684\n",
      "M/D/2 people per second =  0.4499183264719023\n"
     ]
    },
    {
     "data": {
      "text/plain": [
       "46 <nil>"
      ]
     },
     "execution_count": 5,
     "metadata": {},
     "output_type": "execute_result"
    }
   ],
   "source": [
    "// M/D/2\n",
    "\n",
    "import \"fmt\"\n",
    "import \"math\"\n",
    "import \"scientificgo.org/special\"\n",
    "\n",
    "// c servers; 2 for this problem\n",
    "var c float64 = 2.0\n",
    "var p float64 = b/c\n",
    "\n",
    "// I believe this is always true\n",
    "var z_1 float64 = -1/p*special.LambertW(0,p/math.Exp(p))\n",
    "\n",
    "// Expected queue waiting time\n",
    "var W = 1.0/(1-z_1) + 1.0/2*(c*p+1/(1-p)-c)\n",
    "var t = W/y-D\n",
    "\n",
    "fmt.Println(\"M/D/2 expected waiting time = \", t)\n",
    "fmt.Println(\"M/D/2 expected system time = \", t+L/s)\n",
    "\n",
    "// People per second\n",
    "var ps_2 = 1/(1/y+t)\n",
    "\n",
    "fmt.Println(\"M/D/2 people per second = \", ps_2)"
   ]
  },
  {
   "cell_type": "markdown",
   "metadata": {},
   "source": [
    "## One Side Walks, One Side Stands\n",
    "\n",
    "The analysis of a walk/stand split queue is simpler, as we have two [M/D/1](https://en.wikipedia.org/wiki/M/D/1_queue) queues with very simple closed forms for the expected waiting time.\n",
    "\n",
    "Assuming the fraction of people that choose to walk/stand is fixed, we have two separate Poisson processes for the arrivals, which in turn means we have two independent M/D/1 queues. The time spent waiting in the queue for such a system is $$T_Q = \\frac{\\lambda D}{2}\\cdot \\frac{D}{1-\\lambda D}.$$ Note that the above collapses to this as $c\\to 1$. The time spent in the queue and on the escalator is then $$T_E = t_Q + \\frac{L}{s}$$ for those standing and $$T_E = t_Q + \\frac{L}{w+s}$$ for those walking, where $w$ is the walking speed.\n",
    "\n",
    "The overall average waiting time in the queue is then the weighted average of the two queues, as is the expected time spent in the queue and on the escalator. The number of people processed per second is simply the sum of the number of people processed per second for each queue individually."
   ]
  },
  {
   "cell_type": "code",
   "execution_count": 6,
   "metadata": {},
   "outputs": [
    {
     "name": "stdout",
     "output_type": "stream",
     "text": [
      "Split queue expected waiting time =  1.670454545454545\n",
      "Split queue expected system time =  14.051406926406928\n",
      "Split queue people per second =  0.31836124748806727\n",
      "\n",
      "Ratio of M/D/2 pps to split queue pps =  1.4132320752662146\n"
     ]
    },
    {
     "data": {
      "text/plain": [
       "60 <nil>"
      ]
     },
     "execution_count": 6,
     "metadata": {},
     "output_type": "execute_result"
    }
   ],
   "source": [
    "// Walk/stand splits\n",
    "\n",
    "var f_w = 0.20\n",
    "var f_s = 1-f_w\n",
    "\n",
    "var y_w = f_w*y\n",
    "var y_s = f_s*y\n",
    "\n",
    "var p_w = y_w*D\n",
    "var p_s = y_s*D\n",
    "\n",
    "var t_w = p_w/2*D/(1-p_w)\n",
    "var t_s = p_s/2*D/(1-p_s)\n",
    "\n",
    "var q_t = f_w*t_w+f_s*t_s\n",
    "fmt.Println(\"Split queue expected waiting time = \", q_t)\n",
    "\n",
    "var s_t = f_w*(t_w+L/(s+w)) + f_s*(t_s+L/s)\n",
    "\n",
    "fmt.Println(\"Split queue expected system time = \", s_t)\n",
    "\n",
    "// People per second\n",
    "var ps_s = 1/(1/y_w+t_w) + 1/(1/y_s+t_s)\n",
    "\n",
    "fmt.Println(\"Split queue people per second = \", ps_s)\n",
    "\n",
    "fmt.Println()\n",
    "fmt.Println(\"Ratio of M/D/2 pps to split queue pps = \", ps_2/ps_s)"
   ]
  },
  {
   "cell_type": "markdown",
   "metadata": {},
   "source": [
    "## Conclusion\n",
    "\n",
    "It should be noted that expected queue waiting time will always be minimized with a standing only (M/D/2) approach, as will the number people processed per second. However, under some very reasonable assumptions it's very likely that the expected amount of time spent waiting for and actually on the escalator will be smaller with the walk/stand (dual M/D/1) approach, as the walkers will spend far less time actually on the escalator. Of course, there may be other reasons to prefer people to stand only, e.g. safety. However, this suggests instead designing escalators so that they're easier and safer to climb rather than requiring everyone stand."
   ]
  }
 ],
 "metadata": {
  "kernelspec": {
   "display_name": "Go",
   "language": "go",
   "name": "gophernotes"
  },
  "language_info": {
   "codemirror_mode": "",
   "file_extension": ".go",
   "mimetype": "",
   "name": "go",
   "nbconvert_exporter": "",
   "pygments_lexer": "",
   "version": "go1.12.9"
  }
 },
 "nbformat": 4,
 "nbformat_minor": 2
}
