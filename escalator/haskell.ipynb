{
 "cells": [
  {
   "cell_type": "markdown",
   "metadata": {},
   "source": [
    "# Is Tokyo Right About How To Use Escalators?\n",
    "\n",
    "Inspired by the article [Tokyo Wants People to Stand on Both Sides of the Escalator](https://www.citylab.com/transportation/2018/12/people-stand-walk-escalator-left-right-save-time-efficient/578479/), let's examine two different ways of using an escalator that can accomodate two people per step.\n",
    "\n",
    "The first is people always stand, which is what railway officials in Tokyo want people to do. The second is people who want to stand stick to one side, leaving the other side free for those who wish to walk, which is how they're typically been used.\n",
    "\n",
    "We'll look at several different metrics - the average amount of time people wait to actually get on the escalator, the number of people processed per second and the average amount of time people people spend in total waiting for and actually on the escalator."
   ]
  },
  {
   "cell_type": "code",
   "execution_count": 4,
   "metadata": {},
   "outputs": [],
   "source": [
    "-- Horizontal length of escalator in meters\n",
    "hle = 10\n",
    "\n",
    "-- Depth of step in meters\n",
    "d = 0.40\n",
    "\n",
    "-- Walking speed in meters per second\n",
    "w = 84/60\n",
    "\n",
    "-- Horizontal escalator speed in meters per second\n",
    "s = 42/60\n",
    "\n",
    "-- Deterministic service time in seconds\n",
    "dst = s/d\n",
    "\n",
    "-- Average people per second\n",
    "y = 1/2\n",
    "\n",
    "-- Arrival in units of fixed service time\n",
    "b = y*dst"
   ]
  },
  {
   "cell_type": "markdown",
   "metadata": {},
   "source": [
    "## Standing Only\n",
    "\n",
    "We first examine the case where people simply stand. This is equivalent to a single queue with two servers and deterministic service time $D$, which is the amount of time it takes for an escalator step to appear.\n",
    "\n",
    "The analysis of this case is difficult, but there is a nice closed-form with respect to the Lambert W function.\n",
    "\n",
    "Let $z_i$, $z_i \\neq 1$, be the $c-1$ roots of the equation $1-z^c e^{\\lambda D (1-z)}=0$.\n",
    "\n",
    "Then we have $$\\mathbf{E}(n_s;c>1) = \\sum_{i=1}^{c-1} \\frac{1}{1-z_i} + \\frac{1}{2} \\left(\\lambda D + \\frac{c}{c-\\lambda D} - c\\right).$$\n",
    "\n",
    "The expected waiting time $T_D$ in the (queue, not escalator) system is then by [Little's law](https://en.wikipedia.org/wiki/Little%27s_law) $$T_D = \\frac{\\mathbf{E}(n_s)}{\\lambda}.$$\n",
    "\n",
    "For our purposes we want the time spent in the queue, which is $t_Q = T_D-D$, as well as the total time spent in the queue and on the escalator, which is $T_S = t_Q + L/s$, where $L$ is the horizontal length of the escalator and $s$ is the horizontal speed of the escalator.\n",
    "\n",
    "The number of people processed per second is the arrival rate adjusted for the time spent in the queue, which is $$\\frac{1}{\\frac{1}{\\lambda}+t} = \\frac{\\lambda}{1+\\lambda t}.$$"
   ]
  },
  {
   "cell_type": "code",
   "execution_count": 19,
   "metadata": {},
   "outputs": [
    {
     "data": {
      "text/plain": [
       "M/D/2 expected waiting time = 0.22262562150255216"
      ]
     },
     "metadata": {},
     "output_type": "display_data"
    },
    {
     "data": {
      "text/plain": [
       "M/D/2 expected system time = 14.508339907216838"
      ]
     },
     "metadata": {},
     "output_type": "display_data"
    },
    {
     "data": {
      "text/plain": [
       "M/D/2 people per second = 0.4499183264719023"
      ]
     },
     "metadata": {},
     "output_type": "display_data"
    }
   ],
   "source": [
    "-- M/D/2\n",
    "\n",
    "import Numeric.GSL.Special(lambert_W0)\n",
    "\n",
    "-- c servers; 2 for this problem\n",
    "c = 2\n",
    "p = b/c\n",
    "\n",
    "-- I believe this is always true\n",
    "z_1 = -1/p*lambert_W0(p/exp(p))\n",
    "\n",
    "-- Expected queue waiting time\n",
    "eqwt = 1/(1-z_1) + 1/2*(c*p+1/(1-p)-c)\n",
    "t = eqwt/y-dst\n",
    "\n",
    "putStrLn $ \"M/D/2 expected waiting time = \" ++ show t\n",
    "putStrLn $ \"M/D/2 expected system time = \" ++ show (t+hle/s)\n",
    "\n",
    "-- People per second\n",
    "ps_2 = 1/(1/y+t)\n",
    "\n",
    "putStrLn $ \"M/D/2 people per second = \" ++ show ps_2"
   ]
  },
  {
   "cell_type": "markdown",
   "metadata": {},
   "source": [
    "## One Side Walks, One Side Stands\n",
    "\n",
    "The analysis of a walk/stand split queue is simpler, as we have two [M/D/1](https://en.wikipedia.org/wiki/M/D/1_queue) queues with very simple closed forms for the expected waiting time.\n",
    "\n",
    "Assuming the fraction of people that choose to walk/stand is fixed, we have two separate Poisson processes for the arrivals, which in turn means we have two independent M/D/1 queues. The time spent waiting in the queue for such a system is $$T_Q = \\frac{\\lambda D}{2}\\cdot \\frac{D}{1-\\lambda D}.$$ Note that the above collapses to this as $c\\to 1$. The time spent in the queue and on the escalator is then $$T_E = t_Q + \\frac{L}{s}$$ for those standing and $$T_E = t_Q + \\frac{L}{w+s}$$ for those walking, where $w$ is the walking speed.\n",
    "\n",
    "The overall average waiting time in the queue is then the weighted average of the two queues, as is the expected time spent in the queue and on the escalator. The number of people processed per second is simply the sum of the number of people processed per second for each queue individually."
   ]
  },
  {
   "cell_type": "code",
   "execution_count": 23,
   "metadata": {},
   "outputs": [
    {
     "data": {
      "text/html": [
       "<style>/* Styles used for the Hoogle display in the pager */\n",
       ".hoogle-doc {\n",
       "display: block;\n",
       "padding-bottom: 1.3em;\n",
       "padding-left: 0.4em;\n",
       "}\n",
       ".hoogle-code {\n",
       "display: block;\n",
       "font-family: monospace;\n",
       "white-space: pre;\n",
       "}\n",
       ".hoogle-text {\n",
       "display: block;\n",
       "}\n",
       ".hoogle-name {\n",
       "color: green;\n",
       "font-weight: bold;\n",
       "}\n",
       ".hoogle-head {\n",
       "font-weight: bold;\n",
       "}\n",
       ".hoogle-sub {\n",
       "display: block;\n",
       "margin-left: 0.4em;\n",
       "}\n",
       ".hoogle-package {\n",
       "font-weight: bold;\n",
       "font-style: italic;\n",
       "}\n",
       ".hoogle-module {\n",
       "font-weight: bold;\n",
       "}\n",
       ".hoogle-class {\n",
       "font-weight: bold;\n",
       "}\n",
       ".get-type {\n",
       "color: green;\n",
       "font-weight: bold;\n",
       "font-family: monospace;\n",
       "display: block;\n",
       "white-space: pre-wrap;\n",
       "}\n",
       ".show-type {\n",
       "color: green;\n",
       "font-weight: bold;\n",
       "font-family: monospace;\n",
       "margin-left: 1em;\n",
       "}\n",
       ".mono {\n",
       "font-family: monospace;\n",
       "display: block;\n",
       "}\n",
       ".err-msg {\n",
       "color: red;\n",
       "font-style: italic;\n",
       "font-family: monospace;\n",
       "white-space: pre;\n",
       "display: block;\n",
       "}\n",
       "#unshowable {\n",
       "color: red;\n",
       "font-weight: bold;\n",
       "}\n",
       ".err-msg.in.collapse {\n",
       "padding-top: 0.7em;\n",
       "}\n",
       ".highlight-code {\n",
       "white-space: pre;\n",
       "font-family: monospace;\n",
       "}\n",
       ".suggestion-warning { \n",
       "font-weight: bold;\n",
       "color: rgb(200, 130, 0);\n",
       "}\n",
       ".suggestion-error { \n",
       "font-weight: bold;\n",
       "color: red;\n",
       "}\n",
       ".suggestion-name {\n",
       "font-weight: bold;\n",
       "}\n",
       "</style><div class=\"suggestion-name\" style=\"clear:both;\">Use camelCase</div><div class=\"suggestion-row\" style=\"float: left;\"><div class=\"suggestion-warning\">Found:</div><div class=\"highlight-code\" id=\"haskell\">s_t = ...</div></div><div class=\"suggestion-row\" style=\"float: left;\"><div class=\"suggestion-warning\">Why Not:</div><div class=\"highlight-code\" id=\"haskell\">sT = ...</div></div><div class=\"suggestion-name\" style=\"clear:both;\">Use camelCase</div><div class=\"suggestion-row\" style=\"float: left;\"><div class=\"suggestion-warning\">Found:</div><div class=\"highlight-code\" id=\"haskell\">ps_s = ...</div></div><div class=\"suggestion-row\" style=\"float: left;\"><div class=\"suggestion-warning\">Why Not:</div><div class=\"highlight-code\" id=\"haskell\">psS = ...</div></div>"
      ],
      "text/plain": [
       "Line 1: Use camelCase\n",
       "Found:\n",
       "s_t = ...\n",
       "Why not:\n",
       "sT = ...Line 1: Use camelCase\n",
       "Found:\n",
       "ps_s = ...\n",
       "Why not:\n",
       "psS = ..."
      ]
     },
     "metadata": {},
     "output_type": "display_data"
    },
    {
     "data": {
      "text/plain": [
       "Split queue expected waiting time = 1.670454545454545"
      ]
     },
     "metadata": {},
     "output_type": "display_data"
    },
    {
     "data": {
      "text/plain": [
       "Split queue expected system time = 14.051406926406928"
      ]
     },
     "metadata": {},
     "output_type": "display_data"
    },
    {
     "data": {
      "text/plain": [
       "Split queue people per second = 0.31836124748806727"
      ]
     },
     "metadata": {},
     "output_type": "display_data"
    },
    {
     "data": {
      "text/plain": [
       "Ratio of M/D/2 pps to split queue pps = 1.4132320752662146"
      ]
     },
     "metadata": {},
     "output_type": "display_data"
    }
   ],
   "source": [
    "-- Walk/stand splits\n",
    "\n",
    "f_w = 0.20\n",
    "f_s = 1-f_w\n",
    "\n",
    "y_w = f_w*y\n",
    "y_s = f_s*y\n",
    "\n",
    "p_w = y_w*dst\n",
    "p_s = y_s*dst\n",
    "\n",
    "t_w = p_w/2*dst/(1-p_w)\n",
    "t_s = p_s/2*dst/(1-p_s)\n",
    "\n",
    "q_t = f_w*t_w+f_s*t_s\n",
    "putStrLn $ \"Split queue expected waiting time = \" ++ show q_t\n",
    "\n",
    "s_t = f_w*(t_w+hle/(s+w)) + f_s*(t_s+hle/s)\n",
    "\n",
    "putStrLn $ \"Split queue expected system time = \" ++ show s_t\n",
    "\n",
    "-- People per second\n",
    "ps_s = 1/(1/y_w+t_w) + 1/(1/y_s+t_s)\n",
    "\n",
    "putStrLn $ \"Split queue people per second = \" ++ show ps_s\n",
    "\n",
    "putStrLn \"\"\n",
    "putStrLn $ \"Ratio of M/D/2 pps to split queue pps = \" ++ show (ps_2/ps_s)"
   ]
  },
  {
   "cell_type": "markdown",
   "metadata": {},
   "source": [
    "## Conclusion\n",
    "\n",
    "It should be noted that expected queue waiting time will always be minimized with a standing only (M/D/2) approach, as will the number people processed per second. However, under some very reasonable assumptions it's very likely that the expected amount of time spent waiting for and actually on the escalator will be smaller with the walk/stand (dual M/D/1) approach, as the walkers will spend far less time actually on the escalator. Of course, there may be other reasons to prefer people to stand only, e.g. safety. However, this suggests instead designing escalators so that they're easier and safer to climb rather than requiring everyone stand."
   ]
  }
 ],
 "metadata": {
  "kernelspec": {
   "display_name": "Haskell",
   "language": "haskell",
   "name": "haskell"
  },
  "language_info": {
   "codemirror_mode": "ihaskell",
   "file_extension": ".hs",
   "name": "haskell",
   "pygments_lexer": "Haskell",
   "version": "8.0.2"
  }
 },
 "nbformat": 4,
 "nbformat_minor": 2
}
